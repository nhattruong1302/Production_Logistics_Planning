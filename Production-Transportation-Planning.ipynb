{
 "cells": [
  {
   "cell_type": "code",
   "execution_count": 10,
   "id": "4d00cb91",
   "metadata": {},
   "outputs": [
    {
     "name": "stdout",
     "output_type": "stream",
     "text": [
      "Model Status:Optimal\n",
      "Objective =  10400.0\n",
      "X13 = 200.0\n",
      "X14 = 50.0\n",
      "X23 = 50.0\n",
      "X24 = 150.0\n",
      "X35 = 150.0\n",
      "X36 = 100.0\n",
      "X46 = 100.0\n",
      "X47 = 100.0\n"
     ]
    }
   ],
   "source": [
    "#######################\n",
    "###   Truong Dinh   ###\n",
    "### MBA2 - 3/6/2023 ###\n",
    "#######################\n",
    "\n",
    "# Import necessary library\n",
    "from pulp import * # for working with optimization problems\n",
    "import pandas as pd # for working with dataframe\n",
    "\n",
    "# Initialize Class, Define Vars., and Objective\n",
    "model = LpProblem(\"Production_and_Transportation_Planning\", LpMinimize)\n",
    "\n",
    "# Define variables\n",
    "X13 = LpVariable('X13', lowBound=0, upBound=200) # Portland to Portsmouth\n",
    "X14 = LpVariable('X14', lowBound=0, upBound=200) # Portland to Albany\n",
    "X23 = LpVariable('X23', lowBound=0, upBound=200) # Syracuse to Portsmouth\n",
    "X24 = LpVariable('X24', lowBound=0, upBound=200) # Syracuse to Albany\n",
    "X35 = LpVariable('X35', lowBound=0, upBound=200) # Portsmouth to Boston\n",
    "X36 = LpVariable('X36', lowBound=0, upBound=100) # Portsmouth to New York\n",
    "X46 = LpVariable('X46', lowBound=0, upBound=100) # Albany to New York\n",
    "X47 = LpVariable('X47', lowBound=0, upBound=200) # Albany to Philadelphia\n",
    "\n",
    "# Define Objetive Function: Profit on Product A and B\n",
    "model += 20 * X13 + 22.5 * X14 + 21 * X23 + 18 * X24 + 2.5 * X35 + 6 * X36 + 2 * X46 + 3.5 * X47\n",
    "\n",
    "# Constraint group 1: Demand\n",
    "model += X35 == 150 # Demand of Boston: 150\n",
    "model += X36 + X46 == 200 # Demand of New York: 200\n",
    "model += X47 == 100 # Demand of Philadelphia: 100\n",
    "\n",
    "# Constraint group 2: Production Capacity\n",
    "model += X13 + X14 <= 300 # Portland plant: 300\n",
    "model += X23 + X24 <= 200 # Syracuse plant: 200\n",
    "\n",
    "# Constraint group 3: Transshipment at Portsmouth and Albany\n",
    "model += X13 + X23 - X35 - X36 == 0 # Portsmouth\n",
    "model += X14 + X24 - X46 - X47 == 0 # Albany\n",
    "\n",
    "# Solve Model\n",
    "model.solve()\n",
    "\n",
    "# Report results\n",
    "print(\"Model Status:{}\".format(LpStatus[model.status]))\n",
    "print(\"Objective = \", value(model.objective))\n",
    "\n",
    "for v in model.variables():\n",
    "    print(v.name,\"=\", v.varValue)\n"
   ]
  },
  {
   "cell_type": "code",
   "execution_count": null,
   "id": "f10ffdff",
   "metadata": {},
   "outputs": [],
   "source": []
  }
 ],
 "metadata": {
  "celltoolbar": "Raw Cell Format",
  "kernelspec": {
   "display_name": "Python 3 (ipykernel)",
   "language": "python",
   "name": "python3"
  },
  "language_info": {
   "codemirror_mode": {
    "name": "ipython",
    "version": 3
   },
   "file_extension": ".py",
   "mimetype": "text/x-python",
   "name": "python",
   "nbconvert_exporter": "python",
   "pygments_lexer": "ipython3",
   "version": "3.9.13"
  }
 },
 "nbformat": 4,
 "nbformat_minor": 5
}
